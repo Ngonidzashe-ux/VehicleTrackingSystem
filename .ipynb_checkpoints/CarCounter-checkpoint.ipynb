{
 "cells": [
  {
   "cell_type": "code",
   "execution_count": null,
   "id": "4d3962c5",
   "metadata": {},
   "outputs": [],
   "source": [
    "from ultralytics import YOLO\n",
    "import cv2\n",
    "import cvzone\n",
    "import math"
   ]
  },
  {
   "cell_type": "code",
   "execution_count": null,
   "id": "a17f8f5d",
   "metadata": {},
   "outputs": [],
   "source": [
    "model = YOLO('../yolov8n.pt')"
   ]
  },
  {
   "cell_type": "code",
   "execution_count": null,
   "id": "51600ad8",
   "metadata": {},
   "outputs": [],
   "source": [
    "#create a webcam object\n",
    "cap = cv2.VideoCapture(0)\n",
    "#setting the width of videocapture\n",
    "cap.set(4, 480)\n",
    "\n",
    "while True:\n",
    "    #read a frame from the webcam\n",
    "    #if the frame is successfully read, cap.read() returns boolean true and returns a numpy array of pixel values that represent the image captured\n",
    "    success, img = cap.read()\n",
    "    \n",
    "    #we are passing the image into the Yolo model and in streaming mode allowing it to use generators for better efficiency and this returns a generator\n",
    "    #a generator is an iterable like lists and tuples but the difference is that it uses lazy evaluation i.e the values are produced on the fly only when needed\n",
    "    #when lists are defined, the values are immediately computed and stored in memory\n",
    "    #generators are so memory efficient coz they use produce one element at a time making them useful for large datasets\n",
    "    results = model(img, stream=True)\n",
    "    \n",
    "    #lets iterate over them\n",
    "    #r is an object that has the following attributes: boxes, keypoints, masks, names, orginal image etc\n",
    "    for r in results:\n",
    "        boxes=r.boxes\n",
    "        for box in boxes:\n",
    "            #Bounding boxes are defined either x_min,y_min,x2_max,y2_max  x_center,y_center,w,h coordinate formats\n",
    "            x1,y1,x2,y2 = box.xyxy[0]\n",
    "            \n",
    "            #convert the coordinates from tensor type to int type\n",
    "            x1,x2,y1,y2 =int(x1),int(x2),int(y1),int(y2)\n",
    "            \n",
    "            \n",
    "            print(x1,y1,x2, y2)\n",
    "            \n",
    "            #draw the rectange around the frame or image\n",
    "            #cv2.rectangle(img, (x1,y1), (x2,y2), (255, 0, 255), 3)\n",
    "            \n",
    "            #we can use the cvzone for drawing rectange as well. Call the cornerRect method and input img and the x1,y1,w,h\n",
    "            bbox = x1,y1, x2-x1, y2-y1\n",
    "            cvzone.cornerRect(img, bbox)\n",
    "            \n",
    "            #Confidence value that is in the tensor type and we round it up to the ceil and express in 2 dp\n",
    "            conf = math.ceil((box.conf[0]*100))/100\n",
    "            \n",
    "            label = r.names[int(box.cls[0])]\n",
    "            #we need to define a rectange in which we can put our text in and display centerrally.\n",
    "            #without these boxes, it might be hard to see the conf levels if there is no background contrast.\n",
    "            \n",
    "            cvzone.putTextRect(img, \"{}\".format(conf), (x1, y1 - 20))\n",
    "            \n",
    "            #put the classname\n",
    "            cvzone.putTextRect(img, \"{}\".format(label), (x1, y1 - 70))\n",
    "\n",
    "            \n",
    "    \n",
    "    #window name\n",
    "    window_name = \"Webcam\"\n",
    "    \n",
    "    #display the frame img in a new window labeled 'Image'\n",
    "    cv2.imshow(window_name, img)\n",
    "    \n",
    "    #move the window to my primary monitor\n",
    "    cv2.moveWindow(window_name, 0, 0)\n",
    "     \n",
    "    \n",
    "    cv2.waitKey(2)  "
   ]
  }
 ],
 "metadata": {
  "kernelspec": {
   "display_name": "Python 3 (ipykernel)",
   "language": "python",
   "name": "python3"
  },
  "language_info": {
   "codemirror_mode": {
    "name": "ipython",
    "version": 3
   },
   "file_extension": ".py",
   "mimetype": "text/x-python",
   "name": "python",
   "nbconvert_exporter": "python",
   "pygments_lexer": "ipython3",
   "version": "3.9.12"
  }
 },
 "nbformat": 4,
 "nbformat_minor": 5
}
